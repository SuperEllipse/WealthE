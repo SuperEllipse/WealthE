{
 "cells": [
  {
   "cell_type": "markdown",
   "id": "be8ae8b8",
   "metadata": {
    "tags": []
   },
   "source": [
    "Two Ways to Use Deployed CML Model in Development\n",
    "\n",
    "There are two ways to interact with CML hosted model. One is through cmlapi library, which is a Python wrapper for APIv2 interface, and the other approach is a direct HTTP request. Both options can facilitate authentication of the caller and use JSON as the message exchange format. This notebook combines the two methods: gatheres the necessary variables via cmlapi and makes a request to the model endpoint with a requests python package.  "
   ]
  },
  {
   "cell_type": "markdown",
   "id": "02ec823e-464f-4c23-9e0e-fd5b207059b9",
   "metadata": {},
   "source": [
    "### Launch CML client utility\n",
    "For complete reference see [cmlapi documentation](https://docs.cloudera.com/machine-learning/cloud/api/topics/ml-apiv2-usage-examples.html) examples. "
   ]
  },
  {
   "cell_type": "code",
   "execution_count": null,
   "id": "765055d6",
   "metadata": {
    "tags": []
   },
   "outputs": [],
   "source": [
    "import cmlapi\n",
    "import json\n",
    "import sys\n",
    "import os\n",
    "client = cmlapi.default_client(url=os.getenv(\"CDSW_API_URL\").replace(\"/api/v1\", \"\"), cml_api_key=os.getenv(\"CDSW_APIV2_KEY\"))\n",
    "client.list_projects()"
   ]
  },
  {
   "cell_type": "markdown",
   "id": "3468ad3d",
   "metadata": {},
   "source": [
    "### Locate and assign your CML project\n",
    "The lab's ML workspace constains a separate project that is used to host the model. We can find the project ID along with other information by performing a search on its name."
   ]
  },
  {
   "cell_type": "code",
   "execution_count": null,
   "id": "3f6347b8",
   "metadata": {
    "tags": []
   },
   "outputs": [],
   "source": [
    "projects = client.list_projects(include_public_projects=True, search_filter=json.dumps({\"name\": \"Shared LLM Model for Hands on Lab\"}))\n",
    "project = projects.projects[0] # assuming only one project is returned by the above query\n",
    "print(project)"
   ]
  },
  {
   "cell_type": "markdown",
   "id": "072420cf",
   "metadata": {},
   "source": [
    "### Locate CML model and Load Access Key for Model to Environment\n",
    "Within the retreived project, we'll use the model object to retreive the model access for the use in the call later."
   ]
  },
  {
   "cell_type": "code",
   "execution_count": null,
   "id": "ed0db1b1-3b7c-4f3d-9940-b97866034d6f",
   "metadata": {
    "tags": []
   },
   "outputs": [],
   "source": [
    "## Here we assume that only one model has been deployed in the project, if this is not true this should be adjusted (this is reflected by the placeholder 0 in the array)\n",
    "model = client.list_models(project_id=project.id)\n",
    "selected_model = model.models[0]\n",
    "\n",
    "## Save the access key for the model to the environment variable of this project\n",
    "os.environ[\"MODEL_ACCESS_KEY\"] = selected_model.access_key"
   ]
  },
  {
   "cell_type": "markdown",
   "id": "e68ec55e-5a94-4b58-97fc-8abb668d2b83",
   "metadata": {
    "tags": []
   },
   "source": [
    "### Generate Model Endpoint URL for Request\n",
    "We then build a URL to make the call the model, given the model access key from the previous step."
   ]
  },
  {
   "cell_type": "code",
   "execution_count": null,
   "id": "16fbf297",
   "metadata": {
    "tags": []
   },
   "outputs": [],
   "source": [
    "MODEL_ENDPOINT = os.getenv(\"CDSW_API_URL\").replace(\"https://\", \"https://modelservice.\").replace(\"/api/v1\", \"/model?accessKey=\")\n",
    "MODEL_ENDPOINT = MODEL_ENDPOINT + os.environ[\"MODEL_ACCESS_KEY\"]\n",
    "os.environ[\"MODEL_ENDPOINT\"] = MODEL_ENDPOINT"
   ]
  },
  {
   "cell_type": "markdown",
   "id": "de3cc91e",
   "metadata": {},
   "source": [
    "### Create Request to Model\n",
    "Finally, all of the above variables are put to use in order to make a request to the model and interpret the response."
   ]
  },
  {
   "cell_type": "code",
   "execution_count": null,
   "id": "2e367ac4-5e1c-4aba-9ce1-60113f4c7fbf",
   "metadata": {
    "tags": []
   },
   "outputs": [],
   "source": [
    "import requests\n",
    "import json\n",
    "import os\n",
    "\n",
    "## Set variables\n",
    "temperature = 0.01\n",
    "token_count = 150\n",
    "\n",
    "## Write a question to ask the model\n",
    "question = \"What is Cloudera Data Platform?\"\n",
    "\n",
    "llama_sys = f\"<<SYS>>\\n You are a helpful and honest assistant. If you are unsure about an answer, truthfully say \\\"I don't know\\\".\\n<</SYS>>\\n\\n\"\n",
    "llama_inst = f\"[INST]Use your knowledge to answer the user's question. [/INST]\"\n",
    "question_and_context = f\"{llama_sys} {llama_inst} [INST] User: {question} [/INST]\"\n",
    "\n",
    "data={ \"request\": {\"prompt\":question_and_context,\"temperature\":temperature,\"max_new_tokens\":token_count,\"repetition_penalty\":1.0} }\n",
    "\n",
    "r = requests.post(os.environ[\"MODEL_ENDPOINT\"], data=json.dumps(data), headers={'Content-Type': 'application/json'})\n",
    "\n",
    "# Logging\n",
    "print(f\"Request: {data} \\n\\n\")\n",
    "print(f\"Response: {r.json()}\")\n"
   ]
  },
  {
   "cell_type": "markdown",
   "id": "a637e91a-5d95-46a8-a85c-f55f1e06f26f",
   "metadata": {},
   "source": [
    "### Takeaways\n",
    "* Models deployed in CML can be accessed via an API endpoint call and a JSON payload containing the request\n",
    "* Models can have multiple replicas to accomodate the load based on the use case\n",
    "* Authorization is done with a a model access key and (optionally) user access key"
   ]
  }
 ],
 "metadata": {
  "kernelspec": {
   "display_name": "Python 3 (ipykernel)",
   "language": "python",
   "name": "python3"
  },
  "language_info": {
   "codemirror_mode": {
    "name": "ipython",
    "version": 3
   },
   "file_extension": ".py",
   "mimetype": "text/x-python",
   "name": "python",
   "nbconvert_exporter": "python",
   "pygments_lexer": "ipython3",
   "version": "3.10.13"
  }
 },
 "nbformat": 4,
 "nbformat_minor": 5
}
